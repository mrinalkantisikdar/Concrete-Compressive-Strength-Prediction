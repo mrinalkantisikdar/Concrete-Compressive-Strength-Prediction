{
 "cells": [
  {
   "attachments": {},
   "cell_type": "markdown",
   "metadata": {},
   "source": [
    "## Concrete Compressive Strength Prediction"
   ]
  },
  {
   "attachments": {},
   "cell_type": "markdown",
   "metadata": {},
   "source": [
    "Importing necessary libraries"
   ]
  },
  {
   "cell_type": "code",
   "execution_count": 3,
   "metadata": {},
   "outputs": [],
   "source": [
    "import os\n",
    "import sys\n",
    "import numpy as np\n",
    "from numpy import array \n",
    "import pandas as pd\n",
    "import seaborn as sns\n",
    "from matplotlib import pyplot as plt\n",
    "import pydotplus\n",
    "import json"
   ]
  },
  {
   "cell_type": "markdown",
   "metadata": {},
   "source": [
    "## Putting data to database"
   ]
  },
  {
   "cell_type": "code",
   "execution_count": 4,
   "metadata": {},
   "outputs": [
    {
     "name": "stdout",
     "output_type": "stream",
     "text": [
      "4.0.0.6816\n"
     ]
    }
   ],
   "source": [
    "from cassandra.cluster import Cluster\n",
    "from cassandra.auth import PlainTextAuthProvider\n",
    "from cassandracsv import CassandraCsv\n",
    "\n",
    "file_path= os.path.join(os.getcwd(),'concrete_strength-token.json')\n",
    "with open(file_path) as f:\n",
    "    file= json.load(f)\n",
    "    id= file[\"clientId\"]\n",
    "    secret= file[\"secret\"]\n",
    "\n",
    "cloud_config= {\n",
    "        'secure_connect_bundle': os.path.join(os.getcwd(), 'secure-connect-concrete-strength.zip')\n",
    "                    }\n",
    "auth_provider = PlainTextAuthProvider(id, secret)\n",
    "cluster = Cluster(cloud=cloud_config, auth_provider=auth_provider)\n",
    "session= cluster.connect()\n",
    "\n",
    "row = session.execute(\"select release_version from system.local\").one()\n",
    "if row:\n",
    "  print(row[0])\n",
    "else:\n",
    "  print(\"An error occurred.\")"
   ]
  },
  {
   "attachments": {},
   "cell_type": "markdown",
   "metadata": {},
   "source": [
    "''' cannot use - in column names, it throws syntax error. We have to use _ instead. \n",
    " While uploading raw data use _ in the column names. After downloading the data change it back to - .\n",
    " remove the column names from the csv file while uploading\n",
    " Keep the file you want to upload in such a directory where the path name has no space in the names of folders\n",
    " had to rename class to classs'''"
   ]
  },
  {
   "cell_type": "code",
   "execution_count": null,
   "metadata": {},
   "outputs": [],
   "source": [
    "# putting data in cassandra\n",
    "#session.execute('CREATE TABLE test_csv_import (car_make text, car_model text, start_year int)')\n",
    "#session.execute('COPY test_csv_import (car_make, car_model, start_year) FROM <<path of the file>> WITH DELIMITER= \",\" AND HEADER= TRUE')\n",
    "\n",
    "# to get the data\n",
    "#session.execute('SELECT * FROM test_csv_import') \n",
    "\n",
    "# putting data in cassandra\n",
    "#session.execute(\"CREATE TABLE mushroom_test_csv (class text PRIMARY KEY,cap-shape text,cap-surface text,cap-color text,bruises text,odor text,gill-attachment text,gill-spacing text,gill-size text,gill-color text,stalk-shape text,stalk-root text,stalk-surface-above-ring text,stalk-surface-below-ring text,stalk-color-above-ring text,stalk-color-below-ring text,veil-type text,veil-color text,ring-number text,ring-type text,spore-print-color text,population text,habitat text)\")\n",
    "#session.execute(\"CREATE TABLE mushroom_test (class text,cap-shape text,cap-surface text, PRIMARY KEY (class, cap-shape))\")"
   ]
  },
  {
   "cell_type": "code",
   "execution_count": null,
   "metadata": {},
   "outputs": [],
   "source": [
    "###example of putting new table in cassandra\n",
    "#qry= '''\n",
    "#create table students (\n",
    "#   studentID int,\n",
    "#   name text,\n",
    "#   age int,\n",
    "#   marks int,\n",
    "#   primary key(studentID)\n",
    "#);'''\n",
    "#session.execute(qry)"
   ]
  },
  {
   "cell_type": "code",
   "execution_count": null,
   "metadata": {},
   "outputs": [],
   "source": [
    "#qry= '''\n",
    "#drop table students\n",
    "#'''\n",
    "#session.execute(qry)\n"
   ]
  },
  {
   "cell_type": "code",
   "execution_count": 69,
   "metadata": {},
   "outputs": [
    {
     "data": {
      "text/plain": [
       "<cassandra.cluster.ResultSet at 0x7f884c35d700>"
      ]
     },
     "execution_count": 69,
     "metadata": {},
     "output_type": "execute_result"
    }
   ],
   "source": [
    "qry= '''\n",
    "create table concrete_strength_csv(\n",
    "   cement decimal,\n",
    "   blast_furnace_slag decimal,\n",
    "   fly_ash decimal,\n",
    "   water decimal,\n",
    "   superplasticizer decimal,\n",
    "   coarse_aggregate decimal,\n",
    "   fine_aggregate decimal,\n",
    "   age decimal,\n",
    "   concrete_compressive_strength decimal, \n",
    "   primary key(cement,blast_furnace_slag,fly_ash,water,superplasticizer,coarse_aggregate,fine_aggregate,age,concrete_compressive_strength)\n",
    "   );'''\n",
    "session.execute(qry)\n",
    "\n",
    "\n",
    "\n"
   ]
  },
  {
   "cell_type": "code",
   "execution_count": 27,
   "metadata": {},
   "outputs": [
    {
     "data": {
      "text/plain": [
       "<cassandra.cluster.ResultSet at 0x21f3d285280>"
      ]
     },
     "execution_count": 27,
     "metadata": {},
     "output_type": "execute_result"
    }
   ],
   "source": [
    "#session.execute('DROP TABLE mushroom_csv')"
   ]
  },
  {
   "cell_type": "code",
   "execution_count": 70,
   "metadata": {},
   "outputs": [],
   "source": [
    "prepared = session.prepare(\"\"\"\n",
    "        INSERT INTO concrete_strength_csv(cement,blast_furnace_slag,fly_ash,water,superplasticizer,coarse_aggregate,fine_aggregate ,age,concrete_compressive_strength) \n",
    "        VALUES (?, ?, ?, ?, ?, ?, ?, ?,?)\n",
    "        \"\"\")"
   ]
  },
  {
   "cell_type": "code",
   "execution_count": 71,
   "metadata": {},
   "outputs": [],
   "source": [
    "with open(r'/config/workspace/notebooks/concrete_data.csv') as concrete_strength:\n",
    "    for cols in concrete_strength:\n",
    "        columns=cols.split(\",\")\n",
    "        #pickup=datetime.datetime.strptime(columns[0],\"%Y-%m-%d\").date()\n",
    "        #dropoff=datetime.datetime.strptime(columns[1],\"%Y-%m-%d\").date()\n",
    "        cement=columns[0]\n",
    "        blast_furnace_slag=columns[1]\n",
    "        fly_ash=columns[2]\n",
    "        water=columns[3]\n",
    "        superplasticizer=columns[4]\n",
    "        coarse_aggregate=columns[5]\n",
    "        fine_aggregate=columns[6]\n",
    "        age=columns[7]\n",
    "        concrete_compressive_strength=columns[8]     \n",
    "\n",
    "\n",
    "        session.execute(prepared, [cement,blast_furnace_slag,fly_ash,water,superplasticizer,coarse_aggregate,fine_aggregate ,age,concrete_compressive_strength])\n",
    "\n",
    "#closing the file\n",
    "concrete_strength.close()\n",
    "\n",
    "#closing Cassandra connection\n",
    "#session.shutdown()"
   ]
  },
  {
   "cell_type": "code",
   "execution_count": null,
   "metadata": {},
   "outputs": [],
   "source": [
    "'''\n",
    "qry=\"\"\"\n",
    "COPY mushroom_csv \n",
    "(class,cap_shape,cap_surface,cap_color,bruises,odor,gill_attachment,gill_spacing,gill_size,gill_color,stalk_shape,stalk_root,stalk_surface_above_ring,stalk_surface_below_ring,stalk_color_above_ring,stalk_color_below_ring,veil_type,veil_color,ring_number,ring_type,spore_print_color,population,habitat) \n",
    "FROM 'C:\\Users\\MS\\Desktop\\mushrooms.csv' \n",
    "WITH DELIMITER= ','\n",
    "AND HEADER= TRUE\n",
    ";\"\"\"\n",
    "session.execute(qry)\n",
    "'''"
   ]
  },
  {
   "cell_type": "code",
   "execution_count": null,
   "metadata": {},
   "outputs": [],
   "source": [
    "#session.execute('''COPY mushroom_csv (class,cap_shape,cap_surface,cap_color,bruises,odor,gill_attachment,gill_spacing,gill_size,gill_color,stalk_shape,stalk_root,stalk_surface_above_ring,stalk_surface_below_ring,stalk_color_above_ring,stalk_color_below_ring,veil_type,veil_color,ring_number,ring_type,spore_print_color,population,habitat) FROM 'C:\\Users\\MS\\Desktop\\mushrooms.csv' WITH DELIMITER=',' AND HEADER=TRUE;''')"
   ]
  },
  {
   "cell_type": "code",
   "execution_count": 68,
   "metadata": {},
   "outputs": [
    {
     "data": {
      "text/plain": [
       "<cassandra.cluster.ResultSet at 0x7f884c1c5af0>"
      ]
     },
     "execution_count": 68,
     "metadata": {},
     "output_type": "execute_result"
    }
   ],
   "source": [
    "# dropping all previously loaded data\n",
    "#qry= '''\n",
    "#drop table students\n",
    "#'''\n",
    "#session.execute(qry)\n",
    "######################\n",
    "qry= '''\n",
    "drop table concrete_strength_csv\n",
    "'''\n",
    "session.execute(qry)"
   ]
  },
  {
   "cell_type": "code",
   "execution_count": null,
   "metadata": {},
   "outputs": [],
   "source": [
    "'''\n",
    "rows = session.execute('SELECT * FROM mushroom_csv')\n",
    "for row in rows:\n",
    "    print (row)\n",
    "    '''"
   ]
  },
  {
   "cell_type": "code",
   "execution_count": null,
   "metadata": {},
   "outputs": [],
   "source": [
    "result= session.execute('SELECT * FROM mushroom_csv')\n",
    "CassandraCsv.export(\n",
    "    result, \n",
    "    output_dir= r'D:\\F Drive\\ineuron\\Internship\\Mushroom Classification ML Project\\Mushroom Classification Working Directory\\notebooks\\data', \n",
    "    filename='mushroom_csv', \n",
    "    separator=',', \n",
    "    with_header=True \n",
    "   )"
   ]
  },
  {
   "cell_type": "markdown",
   "metadata": {},
   "source": [
    "## Reading data from database"
   ]
  },
  {
   "cell_type": "code",
   "execution_count": 5,
   "metadata": {},
   "outputs": [],
   "source": [
    "session= cluster.connect('concrete_strength')\n",
    "# session= cluster.connect('keyspace')"
   ]
  },
  {
   "cell_type": "code",
   "execution_count": 8,
   "metadata": {},
   "outputs": [
    {
     "data": {
      "text/html": [
       "<div>\n",
       "<style scoped>\n",
       "    .dataframe tbody tr th:only-of-type {\n",
       "        vertical-align: middle;\n",
       "    }\n",
       "\n",
       "    .dataframe tbody tr th {\n",
       "        vertical-align: top;\n",
       "    }\n",
       "\n",
       "    .dataframe thead th {\n",
       "        text-align: right;\n",
       "    }\n",
       "</style>\n",
       "<table border=\"1\" class=\"dataframe\">\n",
       "  <thead>\n",
       "    <tr style=\"text-align: right;\">\n",
       "      <th></th>\n",
       "      <th>cement</th>\n",
       "      <th>blast_furnace_slag</th>\n",
       "      <th>fly_ash</th>\n",
       "      <th>water</th>\n",
       "      <th>superplasticizer</th>\n",
       "      <th>coarse_aggregate</th>\n",
       "      <th>fine_aggregate</th>\n",
       "      <th>age</th>\n",
       "      <th>concrete_compressive_strength</th>\n",
       "    </tr>\n",
       "  </thead>\n",
       "  <tbody>\n",
       "    <tr>\n",
       "      <th>0</th>\n",
       "      <td>212.0</td>\n",
       "      <td>0.0</td>\n",
       "      <td>124.8</td>\n",
       "      <td>159.0</td>\n",
       "      <td>7.8</td>\n",
       "      <td>1085.4</td>\n",
       "      <td>799.5</td>\n",
       "      <td>3</td>\n",
       "      <td>19.52</td>\n",
       "    </tr>\n",
       "    <tr>\n",
       "      <th>1</th>\n",
       "      <td>212.0</td>\n",
       "      <td>0.0</td>\n",
       "      <td>124.8</td>\n",
       "      <td>159.0</td>\n",
       "      <td>7.8</td>\n",
       "      <td>1085.4</td>\n",
       "      <td>799.5</td>\n",
       "      <td>14</td>\n",
       "      <td>31.35</td>\n",
       "    </tr>\n",
       "    <tr>\n",
       "      <th>2</th>\n",
       "      <td>212.0</td>\n",
       "      <td>0.0</td>\n",
       "      <td>124.8</td>\n",
       "      <td>159.0</td>\n",
       "      <td>7.8</td>\n",
       "      <td>1085.4</td>\n",
       "      <td>799.5</td>\n",
       "      <td>28</td>\n",
       "      <td>38.50</td>\n",
       "    </tr>\n",
       "    <tr>\n",
       "      <th>3</th>\n",
       "      <td>212.0</td>\n",
       "      <td>0.0</td>\n",
       "      <td>124.8</td>\n",
       "      <td>159.0</td>\n",
       "      <td>7.8</td>\n",
       "      <td>1085.4</td>\n",
       "      <td>799.5</td>\n",
       "      <td>56</td>\n",
       "      <td>45.08</td>\n",
       "    </tr>\n",
       "    <tr>\n",
       "      <th>4</th>\n",
       "      <td>212.0</td>\n",
       "      <td>0.0</td>\n",
       "      <td>124.8</td>\n",
       "      <td>159.0</td>\n",
       "      <td>7.8</td>\n",
       "      <td>1085.4</td>\n",
       "      <td>799.5</td>\n",
       "      <td>100</td>\n",
       "      <td>47.82</td>\n",
       "    </tr>\n",
       "  </tbody>\n",
       "</table>\n",
       "</div>"
      ],
      "text/plain": [
       "  cement blast_furnace_slag fly_ash  water superplasticizer coarse_aggregate  \\\n",
       "0  212.0                0.0   124.8  159.0              7.8           1085.4   \n",
       "1  212.0                0.0   124.8  159.0              7.8           1085.4   \n",
       "2  212.0                0.0   124.8  159.0              7.8           1085.4   \n",
       "3  212.0                0.0   124.8  159.0              7.8           1085.4   \n",
       "4  212.0                0.0   124.8  159.0              7.8           1085.4   \n",
       "\n",
       "  fine_aggregate  age concrete_compressive_strength  \n",
       "0          799.5    3                         19.52  \n",
       "1          799.5   14                         31.35  \n",
       "2          799.5   28                         38.50  \n",
       "3          799.5   56                         45.08  \n",
       "4          799.5  100                         47.82  "
      ]
     },
     "execution_count": 8,
     "metadata": {},
     "output_type": "execute_result"
    }
   ],
   "source": [
    "df = session.execute(\"SELECT * FROM concrete_strength_csv;\")\n",
    "\n",
    "df = pd.DataFrame([d for d in df])\n",
    "df.head()"
   ]
  },
  {
   "cell_type": "code",
   "execution_count": 74,
   "metadata": {},
   "outputs": [
    {
     "data": {
      "text/plain": [
       "(1004, 9)"
      ]
     },
     "execution_count": 74,
     "metadata": {},
     "output_type": "execute_result"
    }
   ],
   "source": [
    "df.shape"
   ]
  },
  {
   "attachments": {},
   "cell_type": "markdown",
   "metadata": {},
   "source": [
    "# Preliminary data exploration"
   ]
  },
  {
   "cell_type": "code",
   "execution_count": 9,
   "metadata": {},
   "outputs": [
    {
     "name": "stdout",
     "output_type": "stream",
     "text": [
      "<class 'pandas.core.frame.DataFrame'>\n",
      "RangeIndex: 1004 entries, 0 to 1003\n",
      "Data columns (total 9 columns):\n",
      " #   Column                         Non-Null Count  Dtype \n",
      "---  ------                         --------------  ----- \n",
      " 0   cement                         1004 non-null   object\n",
      " 1   blast_furnace_slag             1004 non-null   object\n",
      " 2   fly_ash                        1004 non-null   object\n",
      " 3   water                          1004 non-null   object\n",
      " 4   superplasticizer               1004 non-null   object\n",
      " 5   coarse_aggregate               1004 non-null   object\n",
      " 6   fine_aggregate                 1004 non-null   object\n",
      " 7   age                            1004 non-null   object\n",
      " 8   concrete_compressive_strength  1004 non-null   object\n",
      "dtypes: object(9)\n",
      "memory usage: 70.7+ KB\n"
     ]
    }
   ],
   "source": [
    "df.info() # none of the columns are numerical. All columns are catagorical."
   ]
  },
  {
   "cell_type": "code",
   "execution_count": 12,
   "metadata": {},
   "outputs": [],
   "source": [
    "df= df.astype(float)"
   ]
  },
  {
   "cell_type": "code",
   "execution_count": 13,
   "metadata": {},
   "outputs": [
    {
     "data": {
      "text/html": [
       "<div>\n",
       "<style scoped>\n",
       "    .dataframe tbody tr th:only-of-type {\n",
       "        vertical-align: middle;\n",
       "    }\n",
       "\n",
       "    .dataframe tbody tr th {\n",
       "        vertical-align: top;\n",
       "    }\n",
       "\n",
       "    .dataframe thead th {\n",
       "        text-align: right;\n",
       "    }\n",
       "</style>\n",
       "<table border=\"1\" class=\"dataframe\">\n",
       "  <thead>\n",
       "    <tr style=\"text-align: right;\">\n",
       "      <th></th>\n",
       "      <th>cement</th>\n",
       "      <th>blast_furnace_slag</th>\n",
       "      <th>fly_ash</th>\n",
       "      <th>water</th>\n",
       "      <th>superplasticizer</th>\n",
       "      <th>coarse_aggregate</th>\n",
       "      <th>fine_aggregate</th>\n",
       "      <th>age</th>\n",
       "      <th>concrete_compressive_strength</th>\n",
       "    </tr>\n",
       "  </thead>\n",
       "  <tbody>\n",
       "    <tr>\n",
       "      <th>count</th>\n",
       "      <td>1004.000000</td>\n",
       "      <td>1004.000000</td>\n",
       "      <td>1004.000000</td>\n",
       "      <td>1004.000000</td>\n",
       "      <td>1004.000000</td>\n",
       "      <td>1004.000000</td>\n",
       "      <td>1004.000000</td>\n",
       "      <td>1004.000000</td>\n",
       "      <td>1004.000000</td>\n",
       "    </tr>\n",
       "    <tr>\n",
       "      <th>mean</th>\n",
       "      <td>278.371016</td>\n",
       "      <td>72.115239</td>\n",
       "      <td>55.591633</td>\n",
       "      <td>182.095319</td>\n",
       "      <td>6.036753</td>\n",
       "      <td>974.311454</td>\n",
       "      <td>772.784562</td>\n",
       "      <td>45.874502</td>\n",
       "      <td>35.205817</td>\n",
       "    </tr>\n",
       "    <tr>\n",
       "      <th>std</th>\n",
       "      <td>104.069221</td>\n",
       "      <td>86.183707</td>\n",
       "      <td>64.216006</td>\n",
       "      <td>21.340548</td>\n",
       "      <td>5.921865</td>\n",
       "      <td>77.590641</td>\n",
       "      <td>80.322418</td>\n",
       "      <td>63.763961</td>\n",
       "      <td>16.231512</td>\n",
       "    </tr>\n",
       "    <tr>\n",
       "      <th>min</th>\n",
       "      <td>102.000000</td>\n",
       "      <td>0.000000</td>\n",
       "      <td>0.000000</td>\n",
       "      <td>121.800000</td>\n",
       "      <td>0.000000</td>\n",
       "      <td>801.000000</td>\n",
       "      <td>594.000000</td>\n",
       "      <td>1.000000</td>\n",
       "      <td>2.330000</td>\n",
       "    </tr>\n",
       "    <tr>\n",
       "      <th>25%</th>\n",
       "      <td>190.700000</td>\n",
       "      <td>0.000000</td>\n",
       "      <td>0.000000</td>\n",
       "      <td>166.600000</td>\n",
       "      <td>0.000000</td>\n",
       "      <td>932.000000</td>\n",
       "      <td>726.775000</td>\n",
       "      <td>7.000000</td>\n",
       "      <td>23.520000</td>\n",
       "    </tr>\n",
       "    <tr>\n",
       "      <th>50%</th>\n",
       "      <td>264.750000</td>\n",
       "      <td>20.000000</td>\n",
       "      <td>0.000000</td>\n",
       "      <td>185.700000</td>\n",
       "      <td>6.100000</td>\n",
       "      <td>968.000000</td>\n",
       "      <td>780.000000</td>\n",
       "      <td>28.000000</td>\n",
       "      <td>33.780000</td>\n",
       "    </tr>\n",
       "    <tr>\n",
       "      <th>75%</th>\n",
       "      <td>343.750000</td>\n",
       "      <td>142.500000</td>\n",
       "      <td>118.300000</td>\n",
       "      <td>192.900000</td>\n",
       "      <td>10.000000</td>\n",
       "      <td>1030.250000</td>\n",
       "      <td>822.650000</td>\n",
       "      <td>56.000000</td>\n",
       "      <td>44.862500</td>\n",
       "    </tr>\n",
       "    <tr>\n",
       "      <th>max</th>\n",
       "      <td>540.000000</td>\n",
       "      <td>359.400000</td>\n",
       "      <td>200.100000</td>\n",
       "      <td>247.000000</td>\n",
       "      <td>32.200000</td>\n",
       "      <td>1145.000000</td>\n",
       "      <td>992.600000</td>\n",
       "      <td>365.000000</td>\n",
       "      <td>82.600000</td>\n",
       "    </tr>\n",
       "  </tbody>\n",
       "</table>\n",
       "</div>"
      ],
      "text/plain": [
       "            cement  blast_furnace_slag      fly_ash        water  \\\n",
       "count  1004.000000         1004.000000  1004.000000  1004.000000   \n",
       "mean    278.371016           72.115239    55.591633   182.095319   \n",
       "std     104.069221           86.183707    64.216006    21.340548   \n",
       "min     102.000000            0.000000     0.000000   121.800000   \n",
       "25%     190.700000            0.000000     0.000000   166.600000   \n",
       "50%     264.750000           20.000000     0.000000   185.700000   \n",
       "75%     343.750000          142.500000   118.300000   192.900000   \n",
       "max     540.000000          359.400000   200.100000   247.000000   \n",
       "\n",
       "       superplasticizer  coarse_aggregate  fine_aggregate          age  \\\n",
       "count       1004.000000       1004.000000     1004.000000  1004.000000   \n",
       "mean           6.036753        974.311454      772.784562    45.874502   \n",
       "std            5.921865         77.590641       80.322418    63.763961   \n",
       "min            0.000000        801.000000      594.000000     1.000000   \n",
       "25%            0.000000        932.000000      726.775000     7.000000   \n",
       "50%            6.100000        968.000000      780.000000    28.000000   \n",
       "75%           10.000000       1030.250000      822.650000    56.000000   \n",
       "max           32.200000       1145.000000      992.600000   365.000000   \n",
       "\n",
       "       concrete_compressive_strength  \n",
       "count                    1004.000000  \n",
       "mean                       35.205817  \n",
       "std                        16.231512  \n",
       "min                         2.330000  \n",
       "25%                        23.520000  \n",
       "50%                        33.780000  \n",
       "75%                        44.862500  \n",
       "max                        82.600000  "
      ]
     },
     "execution_count": 13,
     "metadata": {},
     "output_type": "execute_result"
    }
   ],
   "source": [
    "df.describe()"
   ]
  },
  {
   "cell_type": "code",
   "execution_count": 15,
   "metadata": {},
   "outputs": [
    {
     "data": {
      "text/plain": [
       "0"
      ]
     },
     "execution_count": 15,
     "metadata": {},
     "output_type": "execute_result"
    }
   ],
   "source": [
    "## check for duplicated records\n",
    "df.duplicated().sum()"
   ]
  },
  {
   "cell_type": "code",
   "execution_count": 17,
   "metadata": {},
   "outputs": [
    {
     "data": {
      "text/plain": [
       "cement                           0\n",
       "blast_furnace_slag               0\n",
       "fly_ash                          0\n",
       "water                            0\n",
       "superplasticizer                 0\n",
       "coarse_aggregate                 0\n",
       "fine_aggregate                   0\n",
       "age                              0\n",
       "concrete_compressive_strength    0\n",
       "dtype: int64"
      ]
     },
     "execution_count": 17,
     "metadata": {},
     "output_type": "execute_result"
    }
   ],
   "source": [
    "# Checking for missing values\n",
    "df.isnull().sum()"
   ]
  },
  {
   "attachments": {},
   "cell_type": "markdown",
   "metadata": {},
   "source": [
    "This shows that there are no missing values in the dataset. "
   ]
  }
 ],
 "metadata": {
  "kernelspec": {
   "display_name": "Python 3.8.0 (conda)",
   "language": "python",
   "name": "python3"
  },
  "language_info": {
   "codemirror_mode": {
    "name": "ipython",
    "version": 3
   },
   "file_extension": ".py",
   "mimetype": "text/x-python",
   "name": "python",
   "nbconvert_exporter": "python",
   "pygments_lexer": "ipython3",
   "version": "3.8.16"
  },
  "orig_nbformat": 4,
  "vscode": {
   "interpreter": {
    "hash": "1762875d695c3b8ce31fc2c385c40c45ae7c7b01a87f50658d419512c57bca88"
   }
  }
 },
 "nbformat": 4,
 "nbformat_minor": 2
}
