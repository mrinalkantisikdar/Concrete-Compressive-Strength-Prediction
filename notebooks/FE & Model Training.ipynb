{
 "cells": [
  {
   "cell_type": "code",
   "execution_count": 1,
   "metadata": {},
   "outputs": [],
   "source": [
    "import numpy as np\n",
    "from numpy import array \n",
    "import pandas as pd\n",
    "import seaborn as sns\n",
    "from matplotlib import pyplot as plt\n",
    "import pydotplus\n",
    "import json"
   ]
  },
  {
   "cell_type": "code",
   "execution_count": 2,
   "metadata": {},
   "outputs": [
    {
     "name": "stdout",
     "output_type": "stream",
     "text": [
      "4.0.0.6816\n"
     ]
    }
   ],
   "source": [
    "from cassandra.cluster import Cluster\n",
    "from cassandra.auth import PlainTextAuthProvider\n",
    "from cassandracsv import CassandraCsv\n",
    "\n",
    "file_path= os.path.join(os.getcwd(),'concrete_strength-token.json')\n",
    "with open(file_path) as f:\n",
    "    file= json.load(f)\n",
    "    id= file[\"clientId\"]\n",
    "    secret= file[\"secret\"]\n",
    "\n",
    "cloud_config= {\n",
    "        'secure_connect_bundle': os.path.join(os.getcwd(), 'secure-connect-concrete-strength.zip')\n",
    "                    }\n",
    "auth_provider = PlainTextAuthProvider(id, secret)\n",
    "cluster = Cluster(cloud=cloud_config, auth_provider=auth_provider)\n",
    "session= cluster.connect()\n",
    "\n",
    "row = session.execute(\"select release_version from system.local\").one()\n",
    "if row:\n",
    "  print(row[0])\n",
    "else:\n",
    "  print(\"An error occurred.\")"
   ]
  },
  {
   "cell_type": "code",
   "execution_count": 3,
   "metadata": {},
   "outputs": [],
   "source": [
    "session= cluster.connect('concrete_strength')"
   ]
  },
  {
   "cell_type": "code",
   "execution_count": 4,
   "metadata": {},
   "outputs": [
    {
     "data": {
      "text/html": [
       "<div>\n",
       "<style scoped>\n",
       "    .dataframe tbody tr th:only-of-type {\n",
       "        vertical-align: middle;\n",
       "    }\n",
       "\n",
       "    .dataframe tbody tr th {\n",
       "        vertical-align: top;\n",
       "    }\n",
       "\n",
       "    .dataframe thead th {\n",
       "        text-align: right;\n",
       "    }\n",
       "</style>\n",
       "<table border=\"1\" class=\"dataframe\">\n",
       "  <thead>\n",
       "    <tr style=\"text-align: right;\">\n",
       "      <th></th>\n",
       "      <th>cement</th>\n",
       "      <th>blast_furnace_slag</th>\n",
       "      <th>fly_ash</th>\n",
       "      <th>water</th>\n",
       "      <th>superplasticizer</th>\n",
       "      <th>coarse_aggregate</th>\n",
       "      <th>fine_aggregate</th>\n",
       "      <th>age</th>\n",
       "      <th>concrete_compressive_strength</th>\n",
       "    </tr>\n",
       "  </thead>\n",
       "  <tbody>\n",
       "    <tr>\n",
       "      <th>0</th>\n",
       "      <td>212.0</td>\n",
       "      <td>0.0</td>\n",
       "      <td>124.8</td>\n",
       "      <td>159.0</td>\n",
       "      <td>7.8</td>\n",
       "      <td>1085.4</td>\n",
       "      <td>799.5</td>\n",
       "      <td>3.0</td>\n",
       "      <td>19.52</td>\n",
       "    </tr>\n",
       "    <tr>\n",
       "      <th>1</th>\n",
       "      <td>212.0</td>\n",
       "      <td>0.0</td>\n",
       "      <td>124.8</td>\n",
       "      <td>159.0</td>\n",
       "      <td>7.8</td>\n",
       "      <td>1085.4</td>\n",
       "      <td>799.5</td>\n",
       "      <td>14.0</td>\n",
       "      <td>31.35</td>\n",
       "    </tr>\n",
       "    <tr>\n",
       "      <th>2</th>\n",
       "      <td>212.0</td>\n",
       "      <td>0.0</td>\n",
       "      <td>124.8</td>\n",
       "      <td>159.0</td>\n",
       "      <td>7.8</td>\n",
       "      <td>1085.4</td>\n",
       "      <td>799.5</td>\n",
       "      <td>28.0</td>\n",
       "      <td>38.50</td>\n",
       "    </tr>\n",
       "    <tr>\n",
       "      <th>3</th>\n",
       "      <td>212.0</td>\n",
       "      <td>0.0</td>\n",
       "      <td>124.8</td>\n",
       "      <td>159.0</td>\n",
       "      <td>7.8</td>\n",
       "      <td>1085.4</td>\n",
       "      <td>799.5</td>\n",
       "      <td>56.0</td>\n",
       "      <td>45.08</td>\n",
       "    </tr>\n",
       "    <tr>\n",
       "      <th>4</th>\n",
       "      <td>212.0</td>\n",
       "      <td>0.0</td>\n",
       "      <td>124.8</td>\n",
       "      <td>159.0</td>\n",
       "      <td>7.8</td>\n",
       "      <td>1085.4</td>\n",
       "      <td>799.5</td>\n",
       "      <td>100.0</td>\n",
       "      <td>47.82</td>\n",
       "    </tr>\n",
       "  </tbody>\n",
       "</table>\n",
       "</div>"
      ],
      "text/plain": [
       "   cement  blast_furnace_slag  fly_ash  water  superplasticizer  \\\n",
       "0   212.0                 0.0    124.8  159.0               7.8   \n",
       "1   212.0                 0.0    124.8  159.0               7.8   \n",
       "2   212.0                 0.0    124.8  159.0               7.8   \n",
       "3   212.0                 0.0    124.8  159.0               7.8   \n",
       "4   212.0                 0.0    124.8  159.0               7.8   \n",
       "\n",
       "   coarse_aggregate  fine_aggregate    age  concrete_compressive_strength  \n",
       "0            1085.4           799.5    3.0                          19.52  \n",
       "1            1085.4           799.5   14.0                          31.35  \n",
       "2            1085.4           799.5   28.0                          38.50  \n",
       "3            1085.4           799.5   56.0                          45.08  \n",
       "4            1085.4           799.5  100.0                          47.82  "
      ]
     },
     "execution_count": 4,
     "metadata": {},
     "output_type": "execute_result"
    }
   ],
   "source": [
    "df = session.execute(\"SELECT * FROM concrete_strength_csv;\")\n",
    "df = pd.DataFrame([d for d in df])\n",
    "df= df.astype(float)\n",
    "df.head()"
   ]
  },
  {
   "attachments": {},
   "cell_type": "markdown",
   "metadata": {},
   "source": [
    "## FE"
   ]
  },
  {
   "cell_type": "code",
   "execution_count": 5,
   "metadata": {},
   "outputs": [
    {
     "data": {
      "text/html": [
       "<div>\n",
       "<style scoped>\n",
       "    .dataframe tbody tr th:only-of-type {\n",
       "        vertical-align: middle;\n",
       "    }\n",
       "\n",
       "    .dataframe tbody tr th {\n",
       "        vertical-align: top;\n",
       "    }\n",
       "\n",
       "    .dataframe thead th {\n",
       "        text-align: right;\n",
       "    }\n",
       "</style>\n",
       "<table border=\"1\" class=\"dataframe\">\n",
       "  <thead>\n",
       "    <tr style=\"text-align: right;\">\n",
       "      <th></th>\n",
       "      <th>cement</th>\n",
       "      <th>blast_furnace_slag</th>\n",
       "      <th>fly_ash</th>\n",
       "      <th>water</th>\n",
       "      <th>superplasticizer</th>\n",
       "      <th>coarse_aggregate</th>\n",
       "      <th>fine_aggregate</th>\n",
       "      <th>age</th>\n",
       "      <th>concrete_compressive_strength</th>\n",
       "    </tr>\n",
       "  </thead>\n",
       "  <tbody>\n",
       "    <tr>\n",
       "      <th>0</th>\n",
       "      <td>212.0</td>\n",
       "      <td>0.0</td>\n",
       "      <td>124.8</td>\n",
       "      <td>159.0</td>\n",
       "      <td>7.8</td>\n",
       "      <td>1085.4</td>\n",
       "      <td>799.5</td>\n",
       "      <td>3.0</td>\n",
       "      <td>19.52</td>\n",
       "    </tr>\n",
       "    <tr>\n",
       "      <th>1</th>\n",
       "      <td>212.0</td>\n",
       "      <td>0.0</td>\n",
       "      <td>124.8</td>\n",
       "      <td>159.0</td>\n",
       "      <td>7.8</td>\n",
       "      <td>1085.4</td>\n",
       "      <td>799.5</td>\n",
       "      <td>14.0</td>\n",
       "      <td>31.35</td>\n",
       "    </tr>\n",
       "    <tr>\n",
       "      <th>2</th>\n",
       "      <td>212.0</td>\n",
       "      <td>0.0</td>\n",
       "      <td>124.8</td>\n",
       "      <td>159.0</td>\n",
       "      <td>7.8</td>\n",
       "      <td>1085.4</td>\n",
       "      <td>799.5</td>\n",
       "      <td>28.0</td>\n",
       "      <td>38.50</td>\n",
       "    </tr>\n",
       "    <tr>\n",
       "      <th>3</th>\n",
       "      <td>212.0</td>\n",
       "      <td>0.0</td>\n",
       "      <td>124.8</td>\n",
       "      <td>159.0</td>\n",
       "      <td>7.8</td>\n",
       "      <td>1085.4</td>\n",
       "      <td>799.5</td>\n",
       "      <td>56.0</td>\n",
       "      <td>45.08</td>\n",
       "    </tr>\n",
       "    <tr>\n",
       "      <th>4</th>\n",
       "      <td>212.0</td>\n",
       "      <td>0.0</td>\n",
       "      <td>124.8</td>\n",
       "      <td>159.0</td>\n",
       "      <td>7.8</td>\n",
       "      <td>1085.4</td>\n",
       "      <td>799.5</td>\n",
       "      <td>100.0</td>\n",
       "      <td>47.82</td>\n",
       "    </tr>\n",
       "    <tr>\n",
       "      <th>...</th>\n",
       "      <td>...</td>\n",
       "      <td>...</td>\n",
       "      <td>...</td>\n",
       "      <td>...</td>\n",
       "      <td>...</td>\n",
       "      <td>...</td>\n",
       "      <td>...</td>\n",
       "      <td>...</td>\n",
       "      <td>...</td>\n",
       "    </tr>\n",
       "    <tr>\n",
       "      <th>999</th>\n",
       "      <td>322.0</td>\n",
       "      <td>0.0</td>\n",
       "      <td>0.0</td>\n",
       "      <td>203.0</td>\n",
       "      <td>0.0</td>\n",
       "      <td>974.0</td>\n",
       "      <td>800.0</td>\n",
       "      <td>180.0</td>\n",
       "      <td>29.59</td>\n",
       "    </tr>\n",
       "    <tr>\n",
       "      <th>1000</th>\n",
       "      <td>322.0</td>\n",
       "      <td>0.0</td>\n",
       "      <td>116.0</td>\n",
       "      <td>196.0</td>\n",
       "      <td>10.0</td>\n",
       "      <td>818.0</td>\n",
       "      <td>813.0</td>\n",
       "      <td>28.0</td>\n",
       "      <td>31.18</td>\n",
       "    </tr>\n",
       "    <tr>\n",
       "      <th>1001</th>\n",
       "      <td>322.0</td>\n",
       "      <td>149.0</td>\n",
       "      <td>0.0</td>\n",
       "      <td>186.0</td>\n",
       "      <td>8.0</td>\n",
       "      <td>951.0</td>\n",
       "      <td>709.0</td>\n",
       "      <td>28.0</td>\n",
       "      <td>52.42</td>\n",
       "    </tr>\n",
       "    <tr>\n",
       "      <th>1002</th>\n",
       "      <td>355.0</td>\n",
       "      <td>19.0</td>\n",
       "      <td>97.0</td>\n",
       "      <td>145.0</td>\n",
       "      <td>12.3</td>\n",
       "      <td>967.0</td>\n",
       "      <td>871.0</td>\n",
       "      <td>28.0</td>\n",
       "      <td>55.45</td>\n",
       "    </tr>\n",
       "    <tr>\n",
       "      <th>1003</th>\n",
       "      <td>355.0</td>\n",
       "      <td>19.0</td>\n",
       "      <td>97.0</td>\n",
       "      <td>145.0</td>\n",
       "      <td>13.1</td>\n",
       "      <td>967.0</td>\n",
       "      <td>871.0</td>\n",
       "      <td>28.0</td>\n",
       "      <td>44.03</td>\n",
       "    </tr>\n",
       "  </tbody>\n",
       "</table>\n",
       "<p>955 rows × 9 columns</p>\n",
       "</div>"
      ],
      "text/plain": [
       "      cement  blast_furnace_slag  fly_ash  water  superplasticizer  \\\n",
       "0      212.0                 0.0    124.8  159.0               7.8   \n",
       "1      212.0                 0.0    124.8  159.0               7.8   \n",
       "2      212.0                 0.0    124.8  159.0               7.8   \n",
       "3      212.0                 0.0    124.8  159.0               7.8   \n",
       "4      212.0                 0.0    124.8  159.0               7.8   \n",
       "...      ...                 ...      ...    ...               ...   \n",
       "999    322.0                 0.0      0.0  203.0               0.0   \n",
       "1000   322.0                 0.0    116.0  196.0              10.0   \n",
       "1001   322.0               149.0      0.0  186.0               8.0   \n",
       "1002   355.0                19.0     97.0  145.0              12.3   \n",
       "1003   355.0                19.0     97.0  145.0              13.1   \n",
       "\n",
       "      coarse_aggregate  fine_aggregate    age  concrete_compressive_strength  \n",
       "0               1085.4           799.5    3.0                          19.52  \n",
       "1               1085.4           799.5   14.0                          31.35  \n",
       "2               1085.4           799.5   28.0                          38.50  \n",
       "3               1085.4           799.5   56.0                          45.08  \n",
       "4               1085.4           799.5  100.0                          47.82  \n",
       "...                ...             ...    ...                            ...  \n",
       "999              974.0           800.0  180.0                          29.59  \n",
       "1000             818.0           813.0   28.0                          31.18  \n",
       "1001             951.0           709.0   28.0                          52.42  \n",
       "1002             967.0           871.0   28.0                          55.45  \n",
       "1003             967.0           871.0   28.0                          44.03  \n",
       "\n",
       "[955 rows x 9 columns]"
      ]
     },
     "execution_count": 5,
     "metadata": {},
     "output_type": "execute_result"
    }
   ],
   "source": [
    "# removing outliers\n",
    "from scipy import stats\n",
    "df[(np.abs(stats.zscore(df)) < 3).all(axis=1)]"
   ]
  },
  {
   "cell_type": "code",
   "execution_count": null,
   "metadata": {},
   "outputs": [],
   "source": [
    "# make the data more gaussian distribution\n"
   ]
  },
  {
   "attachments": {},
   "cell_type": "markdown",
   "metadata": {},
   "source": [
    "# train_test_split"
   ]
  },
  {
   "cell_type": "code",
   "execution_count": 9,
   "metadata": {},
   "outputs": [],
   "source": [
    "from sklearn.model_selection import train_test_split\n",
    "## Independent and dependent features\n",
    "X = df.drop(['concrete_compressive_strength'], axis=1)  \n",
    "y = df[\"concrete_compressive_strength\"]\n",
    "X_train, X_test, y_train, y_test = train_test_split(X, y, random_state=42, test_size=0.2)"
   ]
  },
  {
   "cell_type": "markdown",
   "metadata": {},
   "source": [
    "### make the data more gaussian distribution"
   ]
  },
  {
   "cell_type": "code",
   "execution_count": 18,
   "metadata": {},
   "outputs": [],
   "source": [
    "from sklearn.preprocessing import PowerTransformer\n",
    "pt=PowerTransformer()\n",
    "X_train_transformed_arr=pt.fit_transform(X_train)\n",
    "X_test_transformed_arr=pt.transform(X_test)"
   ]
  },
  {
   "cell_type": "code",
   "execution_count": 24,
   "metadata": {},
   "outputs": [],
   "source": [
    "X_train_transformed=pd.DataFrame(X_train_transformed_arr,columns=X_train.columns)\n",
    "X_test_transformed=pd.DataFrame(X_test_transformed_arr, columns=X_test.columns)"
   ]
  },
  {
   "cell_type": "code",
   "execution_count": null,
   "metadata": {},
   "outputs": [],
   "source": [
    "#visualising their QQPlots\n",
    "for col in X.columns:\n",
    "    plt.figure(figsize=(16,5))\n",
    "    plt.subplot(2,2,1)\n",
    "    stats.probplot(x=X_train[col],dist='norm',plot=plt)\n",
    "    plt.title(col)\n",
    "    plt.subplot(2,2,2)\n",
    "    stats.probplot(x=X_train_transformed[col],dist='norm',plot=plt)\n",
    "    plt.title(label=col+' After Transformation')\n",
    "    plt.subplot(2,2,3)\n",
    "    sns.kdeplot(x=X[col])\n",
    "    plt.subplot(2,2,4)\n",
    "    sns.kdeplot(x=X_train_transformed[col])\n",
    "    plt.show()"
   ]
  },
  {
   "cell_type": "code",
   "execution_count": 25,
   "metadata": {},
   "outputs": [
    {
     "data": {
      "text/plain": [
       "cement                0.529870\n",
       "blast_furnace_slag    0.879511\n",
       "fly_ash               0.459894\n",
       "water                 0.048939\n",
       "superplasticizer      0.935382\n",
       "coarse_aggregate     -0.085194\n",
       "fine_aggregate       -0.308547\n",
       "age                   3.372279\n",
       "dtype: float64"
      ]
     },
     "execution_count": 25,
     "metadata": {},
     "output_type": "execute_result"
    }
   ],
   "source": [
    "X_train.skew()"
   ]
  },
  {
   "cell_type": "code",
   "execution_count": 26,
   "metadata": {},
   "outputs": [
    {
     "data": {
      "text/plain": [
       "cement               -0.015202\n",
       "blast_furnace_slag    0.027731\n",
       "fly_ash               0.136406\n",
       "water                 0.006059\n",
       "superplasticizer     -0.165540\n",
       "coarse_aggregate     -0.021379\n",
       "fine_aggregate       -0.020941\n",
       "age                  -0.000368\n",
       "dtype: float64"
      ]
     },
     "execution_count": 26,
     "metadata": {},
     "output_type": "execute_result"
    }
   ],
   "source": [
    "X_train_transformed.skew()"
   ]
  },
  {
   "cell_type": "code",
   "execution_count": 27,
   "metadata": {},
   "outputs": [
    {
     "data": {
      "text/plain": [
       "cement                0.693154\n",
       "blast_furnace_slag    0.758093\n",
       "fly_ash               0.647808\n",
       "water                -0.037637\n",
       "superplasticizer      1.143953\n",
       "coarse_aggregate     -0.021656\n",
       "fine_aggregate       -0.058306\n",
       "age                   2.810204\n",
       "dtype: float64"
      ]
     },
     "execution_count": 27,
     "metadata": {},
     "output_type": "execute_result"
    }
   ],
   "source": [
    "X_test.skew()"
   ]
  },
  {
   "cell_type": "code",
   "execution_count": 28,
   "metadata": {},
   "outputs": [
    {
     "data": {
      "text/plain": [
       "cement                0.042606\n",
       "blast_furnace_slag   -0.106610\n",
       "fly_ash               0.318083\n",
       "water                -0.077176\n",
       "superplasticizer      0.066254\n",
       "coarse_aggregate      0.039382\n",
       "fine_aggregate        0.292078\n",
       "age                   0.102223\n",
       "dtype: float64"
      ]
     },
     "execution_count": 28,
     "metadata": {},
     "output_type": "execute_result"
    }
   ],
   "source": [
    "X_test_transformed.skew()"
   ]
  },
  {
   "attachments": {},
   "cell_type": "markdown",
   "metadata": {},
   "source": [
    "# Selecting the best features for our model:\n",
    "##### using SelectKBest method with score_func as chi2"
   ]
  },
  {
   "cell_type": "code",
   "execution_count": 35,
   "metadata": {},
   "outputs": [],
   "source": [
    "from sklearn.feature_selection import SelectKBest, f_regression"
   ]
  },
  {
   "cell_type": "code",
   "execution_count": 37,
   "metadata": {},
   "outputs": [
    {
     "name": "stdout",
     "output_type": "stream",
     "text": [
      "After selecting best 7 features: (803, 7)\n"
     ]
    }
   ],
   "source": [
    "select = SelectKBest(score_func=f_regression, k=7)\n",
    "fs= select.fit_transform(X_train, y_train) # fitting & transorming train data\n",
    "print(\"After selecting best 7 features:\", fs.shape)"
   ]
  },
  {
   "cell_type": "code",
   "execution_count": 40,
   "metadata": {},
   "outputs": [
    {
     "name": "stdout",
     "output_type": "stream",
     "text": [
      "All features:\n",
      "['cement' 'blast_furnace_slag' 'fly_ash' 'water' 'superplasticizer'\n",
      " 'coarse_aggregate' 'fine_aggregate' 'age']\n",
      "                               \n",
      "Selected best 7:\n",
      "['cement' 'blast_furnace_slag' 'water' 'superplasticizer'\n",
      " 'coarse_aggregate' 'fine_aggregate' 'age']\n"
     ]
    }
   ],
   "source": [
    "filter = select.get_support()\n",
    "features = array(X_train.columns)\n",
    " \n",
    "print(\"All features:\")\n",
    "print(features)\n",
    "print(\"                               \") \n",
    "print(\"Selected best 7:\")\n",
    "print(features[filter])"
   ]
  },
  {
   "attachments": {},
   "cell_type": "markdown",
   "metadata": {},
   "source": [
    "We've selected 7 best features in x data. To identify the selected features we use get_support() function and filter out them from the features name list.  The fs object contains selected x data. "
   ]
  },
  {
   "cell_type": "code",
   "execution_count": 41,
   "metadata": {},
   "outputs": [],
   "source": [
    "X_train_new= X_train[features[filter]] # creating new X_train with selected features"
   ]
  },
  {
   "cell_type": "code",
   "execution_count": 42,
   "metadata": {},
   "outputs": [
    {
     "data": {
      "text/plain": [
       "Index(['cement', 'blast_furnace_slag', 'water', 'superplasticizer',\n",
       "       'coarse_aggregate', 'fine_aggregate', 'age'],\n",
       "      dtype='object')"
      ]
     },
     "execution_count": 42,
     "metadata": {},
     "output_type": "execute_result"
    }
   ],
   "source": [
    "X_train_new.columns"
   ]
  },
  {
   "cell_type": "code",
   "execution_count": 43,
   "metadata": {},
   "outputs": [],
   "source": [
    "X_test_new= X_test[features[filter]] # creating new X_test with selected features"
   ]
  },
  {
   "cell_type": "code",
   "execution_count": 44,
   "metadata": {},
   "outputs": [],
   "source": [
    "# Define which columns should be ordinal-encoded and which should be scaled\n",
    "# categorical_cols = X.select_dtypes(include='object').columns\n",
    "numerical_cols = X.select_dtypes(exclude='object').columns  # all our columns are numerical\n",
    "# select numerical and catagorical datas"
   ]
  },
  {
   "cell_type": "code",
   "execution_count": 45,
   "metadata": {},
   "outputs": [],
   "source": [
    "from sklearn.impute import SimpleImputer ## HAndling Missing Values\n",
    "# if no outlyers use mean, if outlyers are there use median or mode\n",
    "# for catagorical features use most frequent value\n",
    "from sklearn.preprocessing import StandardScaler # HAndling Feature Scaling\n",
    "from sklearn.preprocessing import LabelEncoder # Label Encoding i.e., converting nominal catagorical features to numerical features(Feature Engineering)\n",
    "# handling missing values-->feature scaling-->ordinal encoding....data should be handled in this order. This is what pipelining is all about\n",
    "## pipelines: pipeline is combining multiple steps one after the other\n",
    "from sklearn.pipeline import Pipeline\n",
    "from sklearn.compose import ColumnTransformer # to group the pipelines together"
   ]
  },
  {
   "cell_type": "code",
   "execution_count": 46,
   "metadata": {},
   "outputs": [],
   "source": [
    "## Numerical Pipeline\n",
    "num_pipeline=Pipeline(\n",
    "    steps=[\n",
    "    ('imputer',SimpleImputer(strategy='median')),\n",
    "    ('scaler',StandardScaler())\n",
    "\n",
    "    ]\n",
    "\n",
    ")\n",
    "\n",
    "\n",
    "# combine numerical and catagorical pipeline\n",
    "preprocessor=ColumnTransformer([\n",
    "('num_pipeline',num_pipeline,numerical_cols)\n",
    "])\n"
   ]
  },
  {
   "cell_type": "code",
   "execution_count": null,
   "metadata": {},
   "outputs": [],
   "source": [
    "## Train test split\n",
    "\n",
    "#from sklearn.model_selection import train_test_split\n",
    "\n",
    "#X_train,X_test,y_train,y_test=train_test_split(X,Y,test_size=0.30,random_state=30)"
   ]
  },
  {
   "cell_type": "code",
   "execution_count": 47,
   "metadata": {},
   "outputs": [],
   "source": [
    "X_train=pd.DataFrame(preprocessor.fit_transform(X_train),columns=preprocessor.get_feature_names_out())\n",
    "X_test=pd.DataFrame(preprocessor.transform(X_test),columns=preprocessor.get_feature_names_out())\n",
    "# fit_transform training data, only transform for test data & convert to dataframe"
   ]
  },
  {
   "cell_type": "code",
   "execution_count": 48,
   "metadata": {},
   "outputs": [],
   "source": [
    "filter = select.get_support()\n",
    "features = array(X_train.columns)\n",
    "X_train= X_train[features[filter]] # creating new X_train with selected features\n",
    "X_test= X_test[features[filter]] # creating new X_test with selected features"
   ]
  },
  {
   "cell_type": "code",
   "execution_count": 49,
   "metadata": {},
   "outputs": [
    {
     "data": {
      "text/html": [
       "<div>\n",
       "<style scoped>\n",
       "    .dataframe tbody tr th:only-of-type {\n",
       "        vertical-align: middle;\n",
       "    }\n",
       "\n",
       "    .dataframe tbody tr th {\n",
       "        vertical-align: top;\n",
       "    }\n",
       "\n",
       "    .dataframe thead th {\n",
       "        text-align: right;\n",
       "    }\n",
       "</style>\n",
       "<table border=\"1\" class=\"dataframe\">\n",
       "  <thead>\n",
       "    <tr style=\"text-align: right;\">\n",
       "      <th></th>\n",
       "      <th>num_pipeline__cement</th>\n",
       "      <th>num_pipeline__blast_furnace_slag</th>\n",
       "      <th>num_pipeline__water</th>\n",
       "      <th>num_pipeline__superplasticizer</th>\n",
       "      <th>num_pipeline__coarse_aggregate</th>\n",
       "      <th>num_pipeline__fine_aggregate</th>\n",
       "      <th>num_pipeline__age</th>\n",
       "    </tr>\n",
       "  </thead>\n",
       "  <tbody>\n",
       "    <tr>\n",
       "      <th>0</th>\n",
       "      <td>-0.597358</td>\n",
       "      <td>-0.192497</td>\n",
       "      <td>-1.926939</td>\n",
       "      <td>0.993625</td>\n",
       "      <td>1.349664</td>\n",
       "      <td>0.257596</td>\n",
       "      <td>0.162914</td>\n",
       "    </tr>\n",
       "    <tr>\n",
       "      <th>1</th>\n",
       "      <td>-0.943404</td>\n",
       "      <td>2.332052</td>\n",
       "      <td>0.168901</td>\n",
       "      <td>-1.044757</td>\n",
       "      <td>0.522881</td>\n",
       "      <td>-0.723446</td>\n",
       "      <td>-0.607910</td>\n",
       "    </tr>\n",
       "    <tr>\n",
       "      <th>2</th>\n",
       "      <td>-0.737493</td>\n",
       "      <td>0.745821</td>\n",
       "      <td>0.168901</td>\n",
       "      <td>-1.044757</td>\n",
       "      <td>1.356194</td>\n",
       "      <td>-0.160348</td>\n",
       "      <td>-0.277557</td>\n",
       "    </tr>\n",
       "    <tr>\n",
       "      <th>3</th>\n",
       "      <td>-1.067332</td>\n",
       "      <td>-0.335963</td>\n",
       "      <td>-1.110075</td>\n",
       "      <td>0.805203</td>\n",
       "      <td>1.416276</td>\n",
       "      <td>0.301393</td>\n",
       "      <td>0.855083</td>\n",
       "    </tr>\n",
       "    <tr>\n",
       "      <th>4</th>\n",
       "      <td>-0.256080</td>\n",
       "      <td>-0.824212</td>\n",
       "      <td>0.743040</td>\n",
       "      <td>-1.044757</td>\n",
       "      <td>-0.057042</td>\n",
       "      <td>1.137281</td>\n",
       "      <td>2.113572</td>\n",
       "    </tr>\n",
       "  </tbody>\n",
       "</table>\n",
       "</div>"
      ],
      "text/plain": [
       "   num_pipeline__cement  num_pipeline__blast_furnace_slag  \\\n",
       "0             -0.597358                         -0.192497   \n",
       "1             -0.943404                          2.332052   \n",
       "2             -0.737493                          0.745821   \n",
       "3             -1.067332                         -0.335963   \n",
       "4             -0.256080                         -0.824212   \n",
       "\n",
       "   num_pipeline__water  num_pipeline__superplasticizer  \\\n",
       "0            -1.926939                        0.993625   \n",
       "1             0.168901                       -1.044757   \n",
       "2             0.168901                       -1.044757   \n",
       "3            -1.110075                        0.805203   \n",
       "4             0.743040                       -1.044757   \n",
       "\n",
       "   num_pipeline__coarse_aggregate  num_pipeline__fine_aggregate  \\\n",
       "0                        1.349664                      0.257596   \n",
       "1                        0.522881                     -0.723446   \n",
       "2                        1.356194                     -0.160348   \n",
       "3                        1.416276                      0.301393   \n",
       "4                       -0.057042                      1.137281   \n",
       "\n",
       "   num_pipeline__age  \n",
       "0           0.162914  \n",
       "1          -0.607910  \n",
       "2          -0.277557  \n",
       "3           0.855083  \n",
       "4           2.113572  "
      ]
     },
     "execution_count": 49,
     "metadata": {},
     "output_type": "execute_result"
    }
   ],
   "source": [
    "X_train.head()"
   ]
  },
  {
   "cell_type": "code",
   "execution_count": 50,
   "metadata": {},
   "outputs": [],
   "source": [
    "from sklearn.linear_model import LinearRegression\n",
    "from sklearn.tree import DecisionTreeRegressor\n",
    "from sklearn.svm import SVR\n",
    "from sklearn.model_selection import GridSearchCV\n",
    "from sklearn.ensemble import RandomForestRegressor, GradientBoostingRegressor, AdaBoostRegressor\n",
    "from sklearn.metrics import r2_score"
   ]
  },
  {
   "cell_type": "code",
   "execution_count": 51,
   "metadata": {},
   "outputs": [],
   "source": [
    "lr=LinearRegression()\n",
    "dtr=DecisionTreeRegressor()\n",
    "svr=SVR()\n",
    "rfr=RandomForestRegressor()\n",
    "gbr=GradientBoostingRegressor()\n",
    "abr=AdaBoostRegressor()\n",
    "\n",
    "model_dict={'lr':lr,'dtr':dtr,'svr':svr,'rfr':rfr,'gbr':gbr,'abr':abr}"
   ]
  },
  {
   "cell_type": "code",
   "execution_count": 52,
   "metadata": {},
   "outputs": [],
   "source": [
    "values=[]\n",
    "names=[]\n",
    "def model_train_output(name,model,X_train,X_test,y_train,y_test):\n",
    "    model.fit(X_train,y_train)\n",
    "    y_pred=model.predict(X_test)\n",
    "    r2_value=r2_score(y_test,y_pred)\n",
    "    names.append(name)\n",
    "    values.append(r2_value)\n",
    "\n",
    "    return names,values"
   ]
  },
  {
   "cell_type": "code",
   "execution_count": 53,
   "metadata": {},
   "outputs": [],
   "source": [
    "for name, model in  model_dict.items():\n",
    "    names,r2_score_val=model_train_output(name,model,X_train_transformed,X_test_transformed,y_train,y_test)"
   ]
  },
  {
   "cell_type": "code",
   "execution_count": 55,
   "metadata": {},
   "outputs": [
    {
     "data": {
      "text/html": [
       "<div>\n",
       "<style scoped>\n",
       "    .dataframe tbody tr th:only-of-type {\n",
       "        vertical-align: middle;\n",
       "    }\n",
       "\n",
       "    .dataframe tbody tr th {\n",
       "        vertical-align: top;\n",
       "    }\n",
       "\n",
       "    .dataframe thead th {\n",
       "        text-align: right;\n",
       "    }\n",
       "</style>\n",
       "<table border=\"1\" class=\"dataframe\">\n",
       "  <thead>\n",
       "    <tr style=\"text-align: right;\">\n",
       "      <th></th>\n",
       "      <th>Model</th>\n",
       "      <th>r2_score</th>\n",
       "    </tr>\n",
       "  </thead>\n",
       "  <tbody>\n",
       "    <tr>\n",
       "      <th>0</th>\n",
       "      <td>lr</td>\n",
       "      <td>0.834598</td>\n",
       "    </tr>\n",
       "    <tr>\n",
       "      <th>1</th>\n",
       "      <td>dtr</td>\n",
       "      <td>0.871349</td>\n",
       "    </tr>\n",
       "    <tr>\n",
       "      <th>2</th>\n",
       "      <td>svr</td>\n",
       "      <td>0.792358</td>\n",
       "    </tr>\n",
       "    <tr>\n",
       "      <th>3</th>\n",
       "      <td>rfr</td>\n",
       "      <td>0.924504</td>\n",
       "    </tr>\n",
       "    <tr>\n",
       "      <th>4</th>\n",
       "      <td>gbr</td>\n",
       "      <td>0.908498</td>\n",
       "    </tr>\n",
       "    <tr>\n",
       "      <th>5</th>\n",
       "      <td>abr</td>\n",
       "      <td>0.805283</td>\n",
       "    </tr>\n",
       "  </tbody>\n",
       "</table>\n",
       "</div>"
      ],
      "text/plain": [
       "  Model  r2_score\n",
       "0    lr  0.834598\n",
       "1   dtr  0.871349\n",
       "2   svr  0.792358\n",
       "3   rfr  0.924504\n",
       "4   gbr  0.908498\n",
       "5   abr  0.805283"
      ]
     },
     "execution_count": 55,
     "metadata": {},
     "output_type": "execute_result"
    }
   ],
   "source": [
    "new_df=pd.DataFrame(names,columns=['Model'])\n",
    "new_df['r2_score']=r2_score_val\n",
    "new_df"
   ]
  },
  {
   "cell_type": "markdown",
   "metadata": {},
   "source": [
    "### Hyperparameter tuning"
   ]
  },
  {
   "cell_type": "code",
   "execution_count": 56,
   "metadata": {},
   "outputs": [],
   "source": [
    "rfr1=RandomForestRegressor()\n",
    "gbr1=GradientBoostingRegressor()"
   ]
  },
  {
   "cell_type": "markdown",
   "metadata": {},
   "source": [
    "Gradient boosting regressor"
   ]
  },
  {
   "cell_type": "code",
   "execution_count": 57,
   "metadata": {},
   "outputs": [
    {
     "name": "stdout",
     "output_type": "stream",
     "text": [
      "Fitting 10 folds for each of 72 candidates, totalling 720 fits\n"
     ]
    }
   ],
   "source": [
    "params = {\n",
    "    'learning_rate' : [0.01, 0.1, 1.0,None],\n",
    "    'n_estimators' : [100, 150, 200,300,400,500],\n",
    "    'max_depth' : [3, 4, 5]\n",
    "}\n",
    "\n",
    "clf = GridSearchCV(gbr1, params,cv=10,n_jobs=-1,verbose=2,scoring='r2')\n",
    "clf.fit(X_train, y_train)"
   ]
  },
  {
   "cell_type": "code",
   "execution_count": null,
   "metadata": {},
   "outputs": [],
   "source": [
    "from sklearn import metrics\n"
   ]
  },
  {
   "cell_type": "code",
   "execution_count": null,
   "metadata": {},
   "outputs": [],
   "source": [
    "import numpy as np\n",
    "def evaluate_model(true, predicted):\n",
    "    report= classification_report(true, predicted)\n",
    "    cm = confusion_matrix(true, predicted)\n",
    "    accuracy = metrics.accuracy_score(true, predicted)\n",
    "    return report, cm, accuracy"
   ]
  },
  {
   "cell_type": "code",
   "execution_count": null,
   "metadata": {},
   "outputs": [],
   "source": []
  },
  {
   "cell_type": "code",
   "execution_count": null,
   "metadata": {},
   "outputs": [
    {
     "ename": "NameError",
     "evalue": "name 'X_train' is not defined",
     "output_type": "error",
     "traceback": [
      "\u001b[1;31m---------------------------------------------------------------------------\u001b[0m",
      "\u001b[1;31mNameError\u001b[0m                                 Traceback (most recent call last)",
      "Cell \u001b[1;32mIn[3], line 14\u001b[0m\n\u001b[0;32m     12\u001b[0m \u001b[39mfor\u001b[39;00m i \u001b[39min\u001b[39;00m \u001b[39mrange\u001b[39m(\u001b[39mlen\u001b[39m(\u001b[39mlist\u001b[39m(models))):\n\u001b[0;32m     13\u001b[0m     model\u001b[39m=\u001b[39m\u001b[39mlist\u001b[39m(models\u001b[39m.\u001b[39mvalues())[i]\n\u001b[1;32m---> 14\u001b[0m     model\u001b[39m.\u001b[39mfit(X_train,y_train)\n\u001b[0;32m     16\u001b[0m     \u001b[39m#Make Predictions\u001b[39;00m\n\u001b[0;32m     17\u001b[0m     y_pred\u001b[39m=\u001b[39mmodel\u001b[39m.\u001b[39mpredict(X_test)\n",
      "\u001b[1;31mNameError\u001b[0m: name 'X_train' is not defined"
     ]
    }
   ],
   "source": [
    "## Train multiple models\n",
    "\n",
    "models={\n",
    "    'XGBoost':XGBClassifier(),          # keys for different models: values for models; so this is key-value pair\n",
    "    'Random_forest':RandomForestClassifier(),\n",
    "    'SVC':SVC()\n",
    "}\n",
    "trained_model_list=[]\n",
    "model_list=[]\n",
    "r2_list=[]\n",
    "\n",
    "for i in range(len(list(models))):\n",
    "    model=list(models.values())[i]\n",
    "    model.fit(X_train,y_train)\n",
    "\n",
    "    #Make Predictions\n",
    "    y_pred=model.predict(X_test)\n",
    "\n",
    "    #mae, rmse, r2_square=evaluate_model(y_test,y_pred)\n",
    "    accuracy, report, cm= model_report(y_test,y_pred)\n",
    "\n",
    "    print(list(models.keys())[i])\n",
    "    model_list.append(list(models.keys())[i])\n",
    "\n",
    "    \n",
    "    print(\"accuracy\",accuracy*100)\n",
    "    print(\"report\", report)\n",
    "    print(\"confusion matrix\", cm)\n",
    "\n",
    "    r2_list.append(accuracy)\n",
    "    \n",
    "    print('='*35)\n",
    "    print('\\n')\n"
   ]
  },
  {
   "cell_type": "code",
   "execution_count": null,
   "metadata": {},
   "outputs": [
    {
     "data": {
      "text/plain": [
       "['XGBoost', 'Random_forest', 'SVC']"
      ]
     },
     "execution_count": 173,
     "metadata": {},
     "output_type": "execute_result"
    }
   ],
   "source": [
    "model_list"
   ]
  }
 ],
 "metadata": {
  "kernelspec": {
   "display_name": "Python 3.8.16 64-bit ('venv')",
   "language": "python",
   "name": "python3"
  },
  "language_info": {
   "codemirror_mode": {
    "name": "ipython",
    "version": 3
   },
   "file_extension": ".py",
   "mimetype": "text/x-python",
   "name": "python",
   "nbconvert_exporter": "python",
   "pygments_lexer": "ipython3",
   "version": "3.8.16"
  },
  "orig_nbformat": 4,
  "vscode": {
   "interpreter": {
    "hash": "1762875d695c3b8ce31fc2c385c40c45ae7c7b01a87f50658d419512c57bca88"
   }
  }
 },
 "nbformat": 4,
 "nbformat_minor": 2
}
